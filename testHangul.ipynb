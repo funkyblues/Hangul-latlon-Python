{
 "cells": [
  {
   "cell_type": "code",
   "execution_count": 13,
   "metadata": {},
   "outputs": [
    {
     "name": "stdout",
     "output_type": "stream",
     "text": [
      "326\n"
     ]
    },
    {
     "data": {
      "text/plain": [
       "'급경사지 No. : 부산 중구 광복 N1지구\\r\\n<일 반 정 보><주조사자><성명><이병욱><소속><한국급경사지안전협회><연락처><010-3321-2015><보조조사자><성명><김태오><소속><한국급경사지안전협회><연락처><010-7746-0735><조사일자><  2022년   4월   12일><위  치><행정구역><( 부산광역시 )시᭼도 ( 중구 )시·군᭼구 ( 광복동2가 )읍·면·동 (       )리·동 ( 2-1 )번지 기타(                                                                         )><GPS좌표><시점 : 위도( 35° 05′ 58.1″),  경도( 129° 01′ 56.7″)><종점 : 위도( 35° 05′ 59.9″),  경도( 129° 01′ 54.1″)><관리기관(주체)><부산시설공단>< 비탈면 용도 (보호 목적)><①도로(지방,군,비관) ②아파트 ③주택 ④공단 ⑤공원 ⑥기타(                  )><제  원  등><비탈면유형><자연비탈면><①토지 ②임야><비탈면 구  조><①토사  ②옹벽  ③축대  ④암반    ⑤복합(석축+토사) ><인공비탈면><①토지 ②임야><산    지><①토지 ②임야><최고수직고><15 m><종단길이><85 m><평균경사><35 °><산마루측구유무><①있음(구조:         ) ②없음><붕괴이력><①발생이력 있음(연도 : 2021년)  ②발생이력 없음><인공비탈면 조성 연도><                          년 (조성자 :                    )>\\r\\n<지 반 정 보><결 함 인 자><토사비탈><①인장균열 ②침하 ③배수불량 ④단차 ⑤슬라이딩 ⑥기타(             ) ⑦없음><배수로상태><①양호   ②불량   ③없음   ④확대   ⑤재시공   ⑥기타(                           )><옹벽><콘크리트><①균열 ②전도 ③침하 ④활동 ⑤배수불량 ⑥기타(                   ) ⑦없음><석축><①배부름 ②균열 ③전>'"
      ]
     },
     "execution_count": 13,
     "metadata": {},
     "output_type": "execute_result"
    }
   ],
   "source": [
    "import olefile\n",
    "import pandas as pd\n",
    "\n",
    "f = olefile.OleFileIO('H_02_26_S0001.hwp')\n",
    "encoded_text = f.openstream('PrvText').read() # PrvText 스트림 안의 내용 꺼내기 (유니코드 인코딩 되어있음)\n",
    "decoded_text = encoded_text.decode('utf-16')  # 유니코드이므로 utf-16으로 디코딩\n",
    "print(decoded_text.find('시점'))\n",
    "decoded_text\n"
   ]
  },
  {
   "cell_type": "code",
   "execution_count": 23,
   "metadata": {},
   "outputs": [],
   "source": [
    "import olefile\n",
    "\n",
    "f = olefile.OleFileIO('H_02_26_S0001.hwp')\n",
    "\n",
    "\n",
    "\n",
    "encoded_text = f.openstream('PrvText').read() # PrvText 스트림 안의 내용 꺼내기 (유니코드 인코딩 되어있음)\n",
    "decoded_text = encoded_text.decode('utf-16')  # 유니코드이므로 utf-16으로 디코딩\n",
    "decoded_text = decoded_text.replace('>', ' ')\n",
    "decoded_text = decoded_text.split('<')\n",
    "\n",
    "\n",
    "\n",
    "\n"
   ]
  },
  {
   "cell_type": "code",
   "execution_count": 24,
   "metadata": {},
   "outputs": [
    {
     "data": {
      "text/plain": [
       "['급경사지 No. : 부산 중구 광복 N1지구\\r\\n',\n",
       " '일 반 정 보 ',\n",
       " '주조사자 ',\n",
       " '성명 ',\n",
       " '이병욱 ',\n",
       " '소속 ',\n",
       " '한국급경사지안전협회 ',\n",
       " '연락처 ',\n",
       " '010-3321-2015 ',\n",
       " '보조조사자 ',\n",
       " '성명 ',\n",
       " '김태오 ',\n",
       " '소속 ',\n",
       " '한국급경사지안전협회 ',\n",
       " '연락처 ',\n",
       " '010-7746-0735 ',\n",
       " '조사일자 ',\n",
       " '  2022년   4월   12일 ',\n",
       " '위  치 ',\n",
       " '행정구역 ',\n",
       " '( 부산광역시 )시᭼도 ( 중구 )시·군᭼구 ( 광복동2가 )읍·면·동 (       )리·동 ( 2-1 )번지 기타(                                                                         ) ',\n",
       " 'GPS좌표 ',\n",
       " '시점 : 위도( 35° 05′ 58.1″),  경도( 129° 01′ 56.7″) ',\n",
       " '종점 : 위도( 35° 05′ 59.9″),  경도( 129° 01′ 54.1″) ',\n",
       " '관리기관(주체) ',\n",
       " '부산시설공단 ',\n",
       " ' 비탈면 용도 (보호 목적) ',\n",
       " '①도로(지방,군,비관) ②아파트 ③주택 ④공단 ⑤공원 ⑥기타(                  ) ',\n",
       " '제  원  등 ',\n",
       " '비탈면유형 ',\n",
       " '자연비탈면 ',\n",
       " '①토지 ②임야 ',\n",
       " '비탈면 구  조 ',\n",
       " '①토사  ②옹벽  ③축대  ④암반    ⑤복합(석축+토사)  ',\n",
       " '인공비탈면 ',\n",
       " '①토지 ②임야 ',\n",
       " '산    지 ',\n",
       " '①토지 ②임야 ',\n",
       " '최고수직고 ',\n",
       " '15 m ',\n",
       " '종단길이 ',\n",
       " '85 m ',\n",
       " '평균경사 ',\n",
       " '35 ° ',\n",
       " '산마루측구유무 ',\n",
       " '①있음(구조:         ) ②없음 ',\n",
       " '붕괴이력 ',\n",
       " '①발생이력 있음(연도 : 2021년)  ②발생이력 없음 ',\n",
       " '인공비탈면 조성 연도 ',\n",
       " '                          년 (조성자 :                    ) \\r\\n',\n",
       " '지 반 정 보 ',\n",
       " '결 함 인 자 ',\n",
       " '토사비탈 ',\n",
       " '①인장균열 ②침하 ③배수불량 ④단차 ⑤슬라이딩 ⑥기타(             ) ⑦없음 ',\n",
       " '배수로상태 ',\n",
       " '①양호   ②불량   ③없음   ④확대   ⑤재시공   ⑥기타(                           ) ',\n",
       " '옹벽 ',\n",
       " '콘크리트 ',\n",
       " '①균열 ②전도 ③침하 ④활동 ⑤배수불량 ⑥기타(                   ) ⑦없음 ',\n",
       " '석축 ',\n",
       " '①배부름 ②균열 ③전 ']"
      ]
     },
     "execution_count": 24,
     "metadata": {},
     "output_type": "execute_result"
    }
   ],
   "source": [
    "decoded_text"
   ]
  },
  {
   "cell_type": "code",
   "execution_count": 29,
   "metadata": {},
   "outputs": [
    {
     "name": "stdout",
     "output_type": "stream",
     "text": [
      "['35° 05′ 58.1', '129° 01′ 56.7', '35° 05′ 59.9', '129° 01′ 54.1']\n"
     ]
    }
   ],
   "source": [
    "import olefile\n",
    "import re\n",
    "\n",
    "f = olefile.OleFileIO('H_02_26_S0001.hwp')\n",
    "\n",
    "encoded_text = f.openstream('PrvText').read() # PrvText 스트림 안의 내용 꺼내기 (유니코드 인코딩 되어있음)\n",
    "decoded_text = encoded_text.decode('utf-16')  # 유니코드이므로 utf-16으로 디코딩\n",
    "decoded_text = decoded_text.replace('>', ' ')\n",
    "decoded_text = decoded_text.split('<')\n",
    "\n",
    "temp_list = []\n",
    "\n",
    "regex_start_point = re.compile(r'^시점')\n",
    "regex_end_point = re.compile(r'^종점')\n",
    "for text in decoded_text:\n",
    "  start_point = regex_start_point.search(text)\n",
    "  end_point = regex_end_point.search(text)\n",
    "\n",
    "  if start_point != None:\n",
    "    temp_list.append(text[9:21])\n",
    "    temp_list.append(text[30:43])\n",
    "\n",
    "  elif end_point != None:\n",
    "    temp_list.append(text[9:21])\n",
    "    temp_list.append(text[30:43])\n",
    "\n",
    "print(temp_list)\n"
   ]
  },
  {
   "cell_type": "code",
   "execution_count": 18,
   "metadata": {},
   "outputs": [
    {
     "data": {
      "text/plain": [
       "[<re.Match object; span=(0, 2), match='시점'>]"
      ]
     },
     "execution_count": 18,
     "metadata": {},
     "output_type": "execute_result"
    }
   ],
   "source": [
    "temp_list"
   ]
  },
  {
   "cell_type": "code",
   "execution_count": 10,
   "metadata": {},
   "outputs": [
    {
     "name": "stdout",
     "output_type": "stream",
     "text": [
      "032-232-3245\n"
     ]
    }
   ],
   "source": [
    "import re \n",
    "\n",
    "text = \"문의사항이 있으면 032-232-3245 으로 연락주시기 바랍니다.\"\n",
    "\n",
    "regex = re.compile(r'\\d\\d\\d-\\d\\d\\d-\\d\\d\\d\\d')\n",
    "matchobj = regex.search(text)\n",
    "phonenumber = matchobj.group()\n",
    "print(phonenumber)"
   ]
  },
  {
   "cell_type": "code",
   "execution_count": null,
   "metadata": {},
   "outputs": [],
   "source": []
  }
 ],
 "metadata": {
  "interpreter": {
   "hash": "02d6fc870d6be0b2f38bdfd17380ebd0ce9dd0b1a9af9f4247406f2d3bb96320"
  },
  "kernelspec": {
   "display_name": "Python 3.9.7 ('base')",
   "language": "python",
   "name": "python3"
  },
  "language_info": {
   "codemirror_mode": {
    "name": "ipython",
    "version": 3
   },
   "file_extension": ".py",
   "mimetype": "text/x-python",
   "name": "python",
   "nbconvert_exporter": "python",
   "pygments_lexer": "ipython3",
   "version": "3.9.7"
  },
  "orig_nbformat": 4
 },
 "nbformat": 4,
 "nbformat_minor": 2
}
